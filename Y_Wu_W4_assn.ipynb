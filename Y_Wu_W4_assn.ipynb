{
 "cells": [
  {
   "cell_type": "code",
   "execution_count": 1,
   "metadata": {},
   "outputs": [],
   "source": [
    "# import numpy package as np\n",
    "import numpy as np"
   ]
  },
  {
   "cell_type": "code",
   "execution_count": 9,
   "metadata": {},
   "outputs": [
    {
     "name": "stdout",
     "output_type": "stream",
     "text": [
      "[2 4]\n"
     ]
    }
   ],
   "source": [
    "#1\n",
    "a = np.array([1, 2, 3, 2, 3, 4, 3, 4, 5, 6])\n",
    "b = np.array([7, 2, 10, 2, 7, 4, 9, 4, 9, 8])\n",
    "c = np.intersect1d(a, b)\n",
    "print(c)"
   ]
  },
  {
   "cell_type": "markdown",
   "metadata": {},
   "source": [
    "first assigning a and b to arrays. then use np.intersectld function to find the distinct value and assign to c, then print"
   ]
  },
  {
   "cell_type": "code",
   "execution_count": 8,
   "metadata": {
    "scrolled": true
   },
   "outputs": [
    {
     "name": "stdout",
     "output_type": "stream",
     "text": [
      "[[ 1  6 11]\n",
      " [ 2  7 12]\n",
      " [ 3  8 13]\n",
      " [ 4  9 14]\n",
      " [ 5 10 15]]\n"
     ]
    }
   ],
   "source": [
    "#2\n",
    "a = np.arange(1,16).reshape(3,5).T\n",
    "print(a)"
   ]
  },
  {
   "cell_type": "markdown",
   "metadata": {},
   "source": [
    "first use np.arange to create array from 1 to 15, then reshape function to reshape the array in to '3rows and 5 columns'， finally followed with'.t' to transite the array in to '5 rows and 3 columns' array and print"
   ]
  },
  {
   "cell_type": "code",
   "execution_count": 10,
   "metadata": {},
   "outputs": [
    {
     "name": "stdout",
     "output_type": "stream",
     "text": [
      "[ 7 15  1  8]\n"
     ]
    }
   ],
   "source": [
    "#3\n",
    "a = np.array([12, 5, 7, 15, 3, 1, 8])\n",
    "b = np.array([14, 6, 3, 11, 19, 12, 5])\n",
    "c = np.intersect1d(a, b)\n",
    "for i in range(len(c)):\n",
    "    a = a[a!=c[i]]\n",
    "print(a)"
   ]
  },
  {
   "cell_type": "markdown",
   "metadata": {},
   "source": [
    "first assigning a and b to arrays, when use np.intersectld to find the distinct value in a and b, and assign to C\n",
    "then use an interation to remove any elements c from a. then print"
   ]
  },
  {
   "cell_type": "code",
   "execution_count": 36,
   "metadata": {
    "scrolled": true
   },
   "outputs": [
    {
     "name": "stdout",
     "output_type": "stream",
     "text": [
      "CUMULATIVE MILES: [  39  112  142  181  187  284  334  387  416  425  499  544  613  771\n",
      "  772  772  777  820  823  823  898  935  935  940 1027 1217 1265 1300\n",
      " 1316 1366 1381 1412 1440 1447 1553]\n",
      "Daily: [ 39  73  30  39   6  97  50  53  29   9  74  45  69 158   1   0   5  43\n",
      "   3   0  75  37   0   5  87 190  48  35  16  50  15  31  28   7 106]\n"
     ]
    }
   ],
   "source": [
    "#4\n",
    "a=np.random.randint(1,1553,31)\n",
    "a= np.append(a, (a[8], a[16], a[20], a[25]))\n",
    "a= np.sort(a)\n",
    "a[34]=1553\n",
    "print('CUMULATIVE MILES:', a)\n",
    "\n",
    "b = np.diff(a)\n",
    "c = np.append(a[0],b)\n",
    "print('Daily:',c)"
   ]
  },
  {
   "cell_type": "markdown",
   "metadata": {},
   "source": [
    "first use np.random.randint to generate random number from 1 to 1553 for 31 days and assig to a，\n",
    "then deside 8,16,20,25 not miles, use append. function to add same cumulated miles into a，\n",
    "sort the array with np.sort\n",
    "make sure the last day is 1553 miles till key west\n",
    "print\n",
    "\n",
    "np.diff(a) to get the different in array,\n",
    "a[0] is first day miles so, and use np.append function to append b\n",
    "print"
   ]
  },
  {
   "cell_type": "code",
   "execution_count": null,
   "metadata": {},
   "outputs": [],
   "source": [
    "#5\n",
    "import pandas\n",
    "import numpy as np\n"
   ]
  }
 ],
 "metadata": {
  "kernelspec": {
   "display_name": "Python 3",
   "language": "python",
   "name": "python3"
  },
  "language_info": {
   "codemirror_mode": {
    "name": "ipython",
    "version": 3
   },
   "file_extension": ".py",
   "mimetype": "text/x-python",
   "name": "python",
   "nbconvert_exporter": "python",
   "pygments_lexer": "ipython3",
   "version": "3.7.3"
  }
 },
 "nbformat": 4,
 "nbformat_minor": 2
}

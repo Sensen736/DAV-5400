{
 "cells": [
  {
   "cell_type": "code",
   "execution_count": 8,
   "metadata": {
    "scrolled": true
   },
   "outputs": [
    {
     "name": "stdout",
     "output_type": "stream",
     "text": [
      "['high', 'high', 'high', 'high', 'vhigh', 'low', 'med', 'low', 'vhigh', 'vhigh', 'low', 'vhigh', 'high', 'low', 'high', 'vhigh', 'med', 'high', 'low', 'low', 'med', 'low', 'vhigh', 'med', 'low', 'vhigh', 'med', 'high', 'low', 'med', 'high', 'high', 'low', 'vhigh', 'high']\n",
      "['high', 'high', 'high', 'low', 'low', 'high', 'med', 'low', 'low', 'high', 'low', 'low', 'low', 'vhigh', 'low', 'high', 'med', 'low', 'low', 'low', 'high', 'low', 'high', 'vhigh', 'vhigh', 'low', 'vhigh', 'high', 'high', 'high', 'low', 'vhigh', 'low', 'vhigh', 'low']\n",
      "['2', '4', '4', '2', '3', '2', '4', '3', '2', '4', '2', '4', '2', '3', '5more', '2', '2', '5more', '3', '2', '4', '2', '5more', '2', '4', '3', '3', '3', '5more', '5more', '3', '5more', '5more', '4', '3']\n",
      "['4', 'more', 'more', 'more', '2', '2', 'more', '2', '2', '4', '2', 'more', '4', 'more', '2', 'more', '2', '4', 'more', '2', '2', '2', '4', '2', '4', 'more', '4', '4', '2', '2', '4', '4', '2', '2', '2']\n",
      "['med', 'small', 'big', 'big', 'med', 'small', 'med', 'big', 'small', 'med', 'med', 'small', 'big', 'big', 'big', 'med', 'small', 'med', 'med', 'big', 'big', 'small', 'med', 'big', 'big', 'big', 'small', 'med', 'big', 'med', 'med', 'med', 'med', 'big', 'big']\n",
      "['low', 'high', 'low', 'high', 'med', 'low', 'high', 'med', 'low', 'low', 'med', 'high', 'med', 'low', 'med', 'high', 'low', 'high', 'high', 'med', 'high', 'high', 'med', 'low', 'low', 'low', 'low', 'med', 'low', 'med', 'high', 'med', 'low', 'high', 'high']\n",
      "['unacc', 'acc', 'unacc', 'acc', 'unacc', 'unacc', 'vgood', 'unacc', 'unacc', 'unacc', 'unacc', 'acc', 'acc', 'unacc', 'unacc', 'unacc', 'unacc', 'acc', 'vgood', 'unacc', 'unacc', 'unacc', 'unacc', 'unacc', 'unacc', 'unacc', 'unacc', 'unacc', 'unacc', 'unacc', 'acc', 'unacc', 'unacc', 'unacc', 'unacc']\n"
     ]
    }
   ],
   "source": [
    "import csv\n",
    "# be sure to update the path below to reflect your own environment!! \n",
    "# also be sure that the code is properly indented after you paste it!\n",
    "with open('cars-sample35.txt') as csvfile: \n",
    "\n",
    "#create empty lists\n",
    "#MC=mantaince cost,ND = number of doors, NP=number of passangers\n",
    "#LC=language capacity, SR= safety rating,CV= clacification of vihicle\n",
    "    price = []\n",
    "    MC = []\n",
    "    ND = []\n",
    "    NP = []\n",
    "    LC = []\n",
    "    SR = []\n",
    "    CV = []\n",
    "    readCSV = csv.reader(csvfile)\n",
    "    for row in readCSV:\n",
    "        \n",
    "# print each row as read by the csv.reader function\n",
    "#addding all each variables in to each lists\n",
    "        price.append(row[0])\n",
    "        MC.append(row[1])\n",
    "        ND.append(row[2])\n",
    "        NP.append(row[3])\n",
    "        LC.append(row[4])\n",
    "        SR.append(row[5])\n",
    "        CV.append(row[6])\n",
    "        \n",
    "#print the list\n",
    "print(price)\n",
    "print(MC)\n",
    "print(ND)\n",
    "print(NP)\n",
    "print(LC)\n",
    "print(SR)\n",
    "print(CV)"
   ]
  },
  {
   "cell_type": "code",
   "execution_count": 43,
   "metadata": {},
   "outputs": [
    {
     "name": "stdout",
     "output_type": "stream",
     "text": [
      "[6, 16, 20, 23, 26, 29]\n"
     ]
    }
   ],
   "source": [
    "#1\n",
    "medprice = [i for i in range(len(price)) if price[i] == 'med']\n",
    "print(medprice)\n"
   ]
  },
  {
   "cell_type": "markdown",
   "metadata": {},
   "source": [
    "To find the index of med price vihecal with a lsit comprehension, use range() function to locate the index, and 'if' to find the 'med' in price list"
   ]
  },
  {
   "cell_type": "code",
   "execution_count": 13,
   "metadata": {
    "scrolled": true
   },
   "outputs": [
    {
     "name": "stdout",
     "output_type": "stream",
     "text": [
      "['more', '2', '2', '2', '4', '2']\n"
     ]
    }
   ],
   "source": [
    "#2 \n",
    "medprice_passenger = [NP[i] for i in range(len(price)) if price[i] == 'med']\n",
    "print(medprice_passenger)"
   ]
  },
  {
   "cell_type": "markdown",
   "metadata": {},
   "source": [
    "use 'if'to find the i in prict list that equels to 'med' then use the index to output the i in  NP list "
   ]
  },
  {
   "cell_type": "code",
   "execution_count": 14,
   "metadata": {
    "scrolled": true
   },
   "outputs": [
    {
     "name": "stdout",
     "output_type": "stream",
     "text": [
      "[0, 1, 2, 27, 31]\n"
     ]
    }
   ],
   "source": [
    "#3\n",
    "HPNLMC = [i for i in range(len(price)) if price[i] == 'high' and MC[i] != 'low']\n",
    "print(HPNLMC)"
   ]
  },
  {
   "cell_type": "markdown",
   "metadata": {},
   "source": [
    "use 'if' to find the 'high' in price list, also '!=' used to find in MC that is NOT LOW, use 'and' to connect 2 conditions, and range() to find the index"
   ]
  },
  {
   "cell_type": "code",
   "execution_count": 27,
   "metadata": {
    "scrolled": true
   },
   "outputs": [
    {
     "name": "stdout",
     "output_type": "stream",
     "text": [
      "[1, 2, 3, 'A', 'B', 'C', 4, 5, 'D', 'E']\n"
     ]
    }
   ],
   "source": [
    "#4\n",
    "nlist = [ [1, 2, 3], ['A', 'B', 'C'], [4, 5], ['D', 'E'] ]\n",
    "flist = [x for y in nlist for x in y]\n",
    "print(flist)"
   ]
  },
  {
   "cell_type": "markdown",
   "metadata": {},
   "source": [
    "'for y in nlist' to accese the lists in nlist, then access the x in y lists, and bring Xs in a flist."
   ]
  },
  {
   "cell_type": "code",
   "execution_count": 50,
   "metadata": {
    "scrolled": true
   },
   "outputs": [
    {
     "name": "stdout",
     "output_type": "stream",
     "text": [
      "{'A0': 'med', 'A1': 'small', 'A2': 'big', 'A3': 'big', 'A4': 'med'}\n"
     ]
    }
   ],
   "source": [
    "#5\n",
    "def makedict(mylist, x):\n",
    "    newdict={}\n",
    "    \n",
    "    for i in range(x):\n",
    "        newdict['A'+ str(i)] = mylist[i]\n",
    "    \n",
    "    return(newdict)\n",
    "\n",
    "print(makedict(LC, 5))"
   ]
  },
  {
   "cell_type": "markdown",
   "metadata": {},
   "source": [
    "first create a dict newdict, create the key by 'A' and convert i to string by using str(i), then match Ai with the i in mylist using mylist[i] then return and print first 5 elements in LC list."
   ]
  },
  {
   "cell_type": "code",
   "execution_count": 53,
   "metadata": {
    "scrolled": false
   },
   "outputs": [
    {
     "name": "stdout",
     "output_type": "stream",
     "text": [
      "{'A0': 'high', 'A1': 'high', 'A2': 'high', 'A3': 'high', 'A4': 'vhigh', 'A5': 'low', 'A6': 'med'}\n",
      "{'A0': 'med', 'A1': 'small', 'A2': 'big', 'A3': 'big', 'A4': 'med', 'A5': 'small', 'A6': 'med'}\n",
      "vhigh\n",
      "med\n"
     ]
    }
   ],
   "source": [
    "#6\n",
    "D1 = makedict(price, 7)\n",
    "D2 = makedict(LC, 7)\n",
    "\n",
    "print(D1)\n",
    "print(D2)\n",
    "\n",
    "print(D1['A4'])\n",
    "print(D2['A4'])"
   ]
  },
  {
   "cell_type": "markdown",
   "metadata": {},
   "source": [
    "Use the function that is already created in #5 input 'price, 7' and 'LC, 7' for first 7 element in price list and LC list, then use D1['A4'] and D2['A4'] to find 'A4' and its value in dicts D1 and D2"
   ]
  }
 ],
 "metadata": {
  "kernelspec": {
   "display_name": "Python 3",
   "language": "python",
   "name": "python3"
  },
  "language_info": {
   "codemirror_mode": {
    "name": "ipython",
    "version": 3
   },
   "file_extension": ".py",
   "mimetype": "text/x-python",
   "name": "python",
   "nbconvert_exporter": "python",
   "pygments_lexer": "ipython3",
   "version": "3.7.3"
  }
 },
 "nbformat": 4,
 "nbformat_minor": 2
}

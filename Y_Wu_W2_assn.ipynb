{
 "cells": [
  {
   "cell_type": "code",
   "execution_count": 1,
   "metadata": {},
   "outputs": [
    {
     "name": "stdout",
     "output_type": "stream",
     "text": [
      "['high', 'high', 'high', 'high', 'vhigh', 'low', 'med', 'low', 'vhigh', 'vhigh', 'low', 'vhigh', 'high', 'low', 'high', 'vhigh', 'med', 'high', 'low', 'low', 'med', 'low', 'vhigh', 'med', 'low', 'vhigh', 'med', 'high', 'low', 'med', 'high', 'high', 'low', 'vhigh', 'high']\n",
      "['high', 'high', 'high', 'low', 'low', 'high', 'med', 'low', 'low', 'high', 'low', 'low', 'low', 'vhigh', 'low', 'high', 'med', 'low', 'low', 'low', 'high', 'low', 'high', 'vhigh', 'vhigh', 'low', 'vhigh', 'high', 'high', 'high', 'low', 'vhigh', 'low', 'vhigh', 'low']\n",
      "['2', '4', '4', '2', '3', '2', '4', '3', '2', '4', '2', '4', '2', '3', '5more', '2', '2', '5more', '3', '2', '4', '2', '5more', '2', '4', '3', '3', '3', '5more', '5more', '3', '5more', '5more', '4', '3']\n",
      "['4', 'more', 'more', 'more', '2', '2', 'more', '2', '2', '4', '2', 'more', '4', 'more', '2', 'more', '2', '4', 'more', '2', '2', '2', '4', '2', '4', 'more', '4', '4', '2', '2', '4', '4', '2', '2', '2']\n",
      "['med', 'small', 'big', 'big', 'med', 'small', 'med', 'big', 'small', 'med', 'med', 'small', 'big', 'big', 'big', 'med', 'small', 'med', 'med', 'big', 'big', 'small', 'med', 'big', 'big', 'big', 'small', 'med', 'big', 'med', 'med', 'med', 'med', 'big', 'big']\n",
      "['low', 'high', 'low', 'high', 'med', 'low', 'high', 'med', 'low', 'low', 'med', 'high', 'med', 'low', 'med', 'high', 'low', 'high', 'high', 'med', 'high', 'high', 'med', 'low', 'low', 'low', 'low', 'med', 'low', 'med', 'high', 'med', 'low', 'high', 'high']\n",
      "['unacc', 'acc', 'unacc', 'acc', 'unacc', 'unacc', 'vgood', 'unacc', 'unacc', 'unacc', 'unacc', 'acc', 'acc', 'unacc', 'unacc', 'unacc', 'unacc', 'acc', 'vgood', 'unacc', 'unacc', 'unacc', 'unacc', 'unacc', 'unacc', 'unacc', 'unacc', 'unacc', 'unacc', 'unacc', 'acc', 'unacc', 'unacc', 'unacc', 'unacc']\n"
     ]
    }
   ],
   "source": [
    "#Q1\n",
    "\n",
    "import csv\n",
    "# be sure to update the path below to reflect your own environment!! \n",
    "# also be sure that the code is properly indented after you paste it!\n",
    "with open('cars-sample35.txt') as csvfile: \n",
    "\n",
    "#create empty lists\n",
    "#MC=mantaince cost,ND = number of doors, NP=number of passangers\n",
    "#LC=language capacity, SR= safety rating,CV= clacification of vihicle\n",
    "    Price = []\n",
    "    MC = []\n",
    "    ND = []\n",
    "    NP = []\n",
    "    LC = []\n",
    "    SR = []\n",
    "    CV = []\n",
    "    readCSV = csv.reader(csvfile)\n",
    "    for row in readCSV:\n",
    "        \n",
    "# print each row as read by the csv.reader function\n",
    "#addding all each variables in to each lists\n",
    "        Price.append(row[0])\n",
    "        MC.append(row[1])\n",
    "        ND.append(row[2])\n",
    "        NP.append(row[3])\n",
    "        LC.append(row[4])\n",
    "        SR.append(row[5])\n",
    "        CV.append(row[6])\n",
    "        \n",
    "#print the list\n",
    "print(Price)\n",
    "print(MC)\n",
    "print(ND)\n",
    "print(NP)\n",
    "print(LC)\n",
    "print(SR)\n",
    "print(CV)"
   ]
  },
  {
   "cell_type": "code",
   "execution_count": 2,
   "metadata": {},
   "outputs": [
    {
     "name": "stdout",
     "output_type": "stream",
     "text": [
      "Index of Med price vehicle [6, 16, 20, 23, 26, 29]\n"
     ]
    }
   ],
   "source": [
    "#Q2\n",
    "#create the list of index, where price is 'med'\n",
    "Med_Index = [i for i, n in enumerate(Price) \n",
    "          if n == 'med']\n",
    "\n",
    "#print the index list\n",
    "print ('Index of Med price vehicle', Med_Index)"
   ]
  },
  {
   "cell_type": "code",
   "execution_count": 3,
   "metadata": {},
   "outputs": [
    {
     "name": "stdout",
     "output_type": "stream",
     "text": [
      "Number of passenger for med price vehicle ['more', '2', '2', '2', '4', '2']\n"
     ]
    }
   ],
   "source": [
    "#Q3\n",
    "#Zip price and number of passanger together\n",
    "ziped = zip(Price, NP)\n",
    "\n",
    "#Find the passenger # where price is med\n",
    "NPM = [b for b, (a,b) in enumerate(ziped) \n",
    "          if a == 'med']\n",
    "\n",
    "#print the result\n",
    "print('Number of passenger for med price vehicle', NPM)"
   ]
  },
  {
   "cell_type": "code",
   "execution_count": 4,
   "metadata": {},
   "outputs": [
    {
     "name": "stdout",
     "output_type": "stream",
     "text": [
      "High price and not low MC vehicles [0, 1, 2, 27, 31]\n"
     ]
    }
   ],
   "source": [
    "#Q4\n",
    "#Zip price and mantaince cost together\n",
    "ziped = zip(Price, MC)\n",
    "\n",
    "#Find the index where price is high and MC is not low\n",
    "HPNLM = [i for i, (a,b) in enumerate(ziped) \n",
    "          if a == 'high' and b != 'low' ]\n",
    "\n",
    "#print the result\n",
    "print('High price and not low MC vehicles', HPNLM)"
   ]
  },
  {
   "cell_type": "code",
   "execution_count": 5,
   "metadata": {},
   "outputs": [
    {
     "name": "stdout",
     "output_type": "stream",
     "text": [
      "2 doors vehicles with large LC [3, 12, 19, 23]\n"
     ]
    }
   ],
   "source": [
    "#Q5\n",
    "#Zip number of doors and lugge capatity together\n",
    "ziped = zip(ND, LC)\n",
    "\n",
    "#Find the index where MD is 2 and LC is big\n",
    "HPNLM = [i for i, (a,b) in enumerate(ziped)       \n",
    "          if a == '2' and b == 'big' ]\n",
    "\n",
    "#print the result\n",
    "print('2 doors vehicles with large LC', HPNLM)"
   ]
  },
  {
   "cell_type": "code",
   "execution_count": 26,
   "metadata": {
    "scrolled": true
   },
   "outputs": [
    {
     "name": "stdout",
     "output_type": "stream",
     "text": [
      "3.3142857142857145\n"
     ]
    }
   ],
   "source": [
    "import statistics\n",
    "#create new empty list and append the first character of each variables in to the new list\n",
    "doors = []\n",
    "for i in range(len(ND)):\n",
    "    doors.append(int(ND[i][0]))\n",
    "#the average number of doors\n",
    "print(sum(doors)/len(doors))\n"
   ]
  },
  {
   "cell_type": "code",
   "execution_count": null,
   "metadata": {},
   "outputs": [],
   "source": []
  }
 ],
 "metadata": {
  "kernelspec": {
   "display_name": "Python 3",
   "language": "python",
   "name": "python3"
  },
  "language_info": {
   "codemirror_mode": {
    "name": "ipython",
    "version": 3
   },
   "file_extension": ".py",
   "mimetype": "text/x-python",
   "name": "python",
   "nbconvert_exporter": "python",
   "pygments_lexer": "ipython3",
   "version": "3.7.3"
  }
 },
 "nbformat": 4,
 "nbformat_minor": 2
}

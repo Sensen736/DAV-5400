{
 "cells": [
  {
   "cell_type": "code",
   "execution_count": null,
   "metadata": {},
   "outputs": [],
   "source": [
    "[link to dataset in github](https://github.com/Sensen736/DAV-5400.git)\n",
    "[The source of the dataset] (https://archive.ics.uci.edu/ml/datasets/Bank+Marketing)\n",
    "*I studied marketing during my undergrates years so it is definatly some fileds that I am familiar with, also I did\n",
    "some internships in commerical banks at different departments during my college years, I think this badaset can help\n",
    "with answering the questionsa about if the campaigns worked ou clients, and what type of clients are more likely to \n",
    "be affected by the campaigns*\n",
    "        "
   ]
  }
 ],
 "metadata": {
  "kernelspec": {
   "display_name": "Python 3",
   "language": "python",
   "name": "python3"
  },
  "language_info": {
   "codemirror_mode": {
    "name": "ipython",
    "version": 3
   },
   "file_extension": ".py",
   "mimetype": "text/x-python",
   "name": "python",
   "nbconvert_exporter": "python",
   "pygments_lexer": "ipython3",
   "version": "3.7.3"
  }
 },
 "nbformat": 4,
 "nbformat_minor": 2
}
